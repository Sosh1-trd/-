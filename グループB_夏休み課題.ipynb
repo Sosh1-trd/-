{
  "nbformat": 4,
  "nbformat_minor": 0,
  "metadata": {
    "colab": {
      "provenance": [],
      "toc_visible": true,
      "authorship_tag": "ABX9TyMQOLhiH0o1QFiM1FIVaCz4",
      "include_colab_link": true
    },
    "kernelspec": {
      "name": "python3",
      "display_name": "Python 3"
    },
    "language_info": {
      "name": "python"
    }
  },
  "cells": [
    {
      "cell_type": "markdown",
      "metadata": {
        "id": "view-in-github",
        "colab_type": "text"
      },
      "source": [
        "<a href=\"https://colab.research.google.com/github/Sosh1-trd/Team-B-assignment/blob/main/%E3%82%B0%E3%83%AB%E3%83%BC%E3%83%97B_%E5%A4%8F%E4%BC%91%E3%81%BF%E8%AA%B2%E9%A1%8C.ipynb\" target=\"_parent\"><img src=\"https://colab.research.google.com/assets/colab-badge.svg\" alt=\"Open In Colab\"/></a>"
      ]
    },
    {
      "cell_type": "code",
      "execution_count": null,
      "metadata": {
        "id": "LGYQzuJP_KDH",
        "colab": {
          "base_uri": "https://localhost:8080/",
          "height": 430
        },
        "outputId": "af426a41-3f3b-4c09-9737-e6b129143d53"
      },
      "outputs": [
        {
          "output_type": "display_data",
          "data": {
            "text/plain": [
              "<Figure size 640x480 with 1 Axes>"
            ],
            "image/png": "[encoded data removed]"
          },
          "metadata": {}
        }
      ],
      "source": [
        "#52枚のトランプからカードをランダムに引いて、戻す。この試行を3回行い出目の合計を計算する、ということを100回やったときの、目の分布がどうなるのかをヒストグラムで表してください。なおA=1,J=11,Q=12,K=13とする。\n",
        "import numpy as np\n",
        "import  matplotlib.pyplot as plt\n",
        "\n",
        "cards=np.array(list(range(1,14))*4)#1から13までのカードを4組用意する。\n",
        "\n",
        "np.random.seed(0)\n",
        "l=[]\n",
        "for _ in range(100):\n",
        "  l.append(np.random.choice(cards,size=3,replace=True).sum())\n",
        "\n",
        "plt.hist(l, np.arange(min(l), max(l) + 3), color=\"blue\" )\n",
        "plt.grid(True)\n",
        "plt.show()\n"
      ]
    },
    {
      "cell_type": "code",
      "source": [],
      "metadata": {
        "id": "smCIAokiHAtF"
      },
      "execution_count": null,
      "outputs": []
    }
  ]
}